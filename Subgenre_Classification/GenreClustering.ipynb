{
 "cells": [
  {
   "cell_type": "code",
   "execution_count": 1,
   "metadata": {
    "collapsed": true
   },
   "outputs": [],
   "source": [
    "%matplotlib inline\n",
    "\n",
    "import os\n",
    "import IPython.display as ipd\n",
    "import numpy as np\n",
    "import pandas as pd\n",
    "import matplotlib.pyplot as plt\n",
    "import seaborn as sns\n",
    "#Built-in module from FMA\n",
    "import utils\n"
   ]
  },
  {
   "cell_type": "code",
   "execution_count": 2,
   "metadata": {
    "collapsed": false
   },
   "outputs": [],
   "source": [
    "supervised_tracks = pd.read_csv('tracks_supervised.csv', index_col=0)"
   ]
  },
  {
   "cell_type": "markdown",
   "metadata": {},
   "source": [
    "### DataFrames:\n",
    "- supervised_tracks: Contains audio features and labels for genres\n"
   ]
  },
  {
   "cell_type": "code",
   "execution_count": 3,
   "metadata": {
    "collapsed": false
   },
   "outputs": [
    {
     "name": "stdout",
     "output_type": "stream",
     "text": [
      "<class 'pandas.core.frame.DataFrame'>\n",
      "Int64Index: 13129 entries, 2 to 124911\n",
      "Data columns (total 12 columns):\n",
      "acousticness        13129 non-null float64\n",
      "danceability        13129 non-null float64\n",
      "energy              13129 non-null float64\n",
      "instrumentalness    13129 non-null float64\n",
      "liveness            13129 non-null float64\n",
      "speechiness         13129 non-null float64\n",
      "tempo               13129 non-null float64\n",
      "valence             13129 non-null float64\n",
      "year_released       13129 non-null float64\n",
      "genres_top          13129 non-null object\n",
      "genres_all          13129 non-null object\n",
      "duration            13129 non-null float64\n",
      "dtypes: float64(10), object(2)\n",
      "memory usage: 1.3+ MB\n",
      "          acousticness  danceability    energy  instrumentalness  liveness  \\\n",
      "track_id                                                                     \n",
      "2             0.416675      0.675894  0.634476          0.010628  0.177647   \n",
      "3             0.374408      0.528643  0.817461          0.001851  0.105880   \n",
      "5             0.043567      0.745566  0.701470          0.000697  0.373143   \n",
      "10            0.951670      0.658179  0.924525          0.965427  0.115474   \n",
      "134           0.452217      0.513238  0.560410          0.019443  0.096567   \n",
      "\n",
      "          speechiness    tempo   valence  year_released genres_top genres_all  \\\n",
      "track_id                                                                        \n",
      "2            0.159310  165.922  0.576661         2009.0    Hip-Hop       [21]   \n",
      "3            0.461818  126.957  0.269240         2009.0    Hip-Hop       [21]   \n",
      "5            0.124595  100.260  0.621661         2009.0    Hip-Hop       [21]   \n",
      "10           0.032985  111.562  0.963590         2008.0        Pop       [10]   \n",
      "134          0.525519  114.290  0.894072         2009.0    Hip-Hop       [21]   \n",
      "\n",
      "          duration  \n",
      "track_id            \n",
      "2            168.0  \n",
      "3            237.0  \n",
      "5            206.0  \n",
      "10           161.0  \n",
      "134          207.0   None\n"
     ]
    }
   ],
   "source": [
    "print(supervised_tracks.head(), supervised_tracks.info())"
   ]
  },
  {
   "cell_type": "code",
   "execution_count": 4,
   "metadata": {
    "collapsed": false
   },
   "outputs": [],
   "source": [
    "#print(audio_features.head(), audio_features.info())"
   ]
  },
  {
   "cell_type": "markdown",
   "metadata": {},
   "source": [
    "### Preliminary Machine Learning"
   ]
  },
  {
   "cell_type": "markdown",
   "metadata": {},
   "source": [
    "#### MeanShift"
   ]
  },
  {
   "cell_type": "code",
   "execution_count": 5,
   "metadata": {
    "collapsed": true
   },
   "outputs": [],
   "source": [
    "from sklearn.cluster import MeanShift\n",
    "#from sklearn.cluster import AgglomerativeClustering"
   ]
  },
  {
   "cell_type": "code",
   "execution_count": 6,
   "metadata": {
    "collapsed": false
   },
   "outputs": [],
   "source": [
    "X = supervised_tracks[['acousticness', 'danceability', 'energy', 'instrumentalness', 'liveness', 'speechiness', 'tempo', 'valence']]\n",
    "\n",
    "ms = MeanShift()\n",
    "ms.fit(X)\n",
    "labels = ms.labels_\n",
    "cluster_centers = ms.cluster_centers_\n",
    "labels_unique = np.unique(labels)\n",
    "n_clusters_ = len(labels_unique)"
   ]
  },
  {
   "cell_type": "code",
   "execution_count": 7,
   "metadata": {
    "collapsed": false
   },
   "outputs": [
    {
     "name": "stdout",
     "output_type": "stream",
     "text": [
      "[0 0 0 ..., 0 0 0]\n",
      "[[  5.12189903e-01   5.39468855e-01   5.28416565e-01   6.39504180e-01\n",
      "    1.85235361e-01   8.90235131e-02   1.09530824e+02   4.42817303e-01]]\n",
      "(1, 8)\n",
      "number of estimated clusters : 1\n"
     ]
    }
   ],
   "source": [
    "print(labels)\n",
    "print(cluster_centers)\n",
    "print(cluster_centers.shape)\n",
    "print(\"number of estimated clusters : %d\" % n_clusters_)\n"
   ]
  },
  {
   "cell_type": "markdown",
   "metadata": {},
   "source": [
    "In the first run of MeanShift, only 1 cluster was identified. To improve the result, I'll try the following:\n",
    "- tuning parameters\n",
    "- modifying / normalizing the features"
   ]
  },
  {
   "cell_type": "code",
   "execution_count": 9,
   "metadata": {
    "collapsed": false
   },
   "outputs": [
    {
     "data": {
      "text/html": [
       "<div>\n",
       "<style scoped>\n",
       "    .dataframe tbody tr th:only-of-type {\n",
       "        vertical-align: middle;\n",
       "    }\n",
       "\n",
       "    .dataframe tbody tr th {\n",
       "        vertical-align: top;\n",
       "    }\n",
       "\n",
       "    .dataframe thead th {\n",
       "        text-align: right;\n",
       "    }\n",
       "</style>\n",
       "<table border=\"1\" class=\"dataframe\">\n",
       "  <thead>\n",
       "    <tr style=\"text-align: right;\">\n",
       "      <th></th>\n",
       "      <th>acousticness</th>\n",
       "      <th>danceability</th>\n",
       "      <th>energy</th>\n",
       "      <th>instrumentalness</th>\n",
       "      <th>liveness</th>\n",
       "      <th>speechiness</th>\n",
       "      <th>tempo</th>\n",
       "      <th>valence</th>\n",
       "    </tr>\n",
       "  </thead>\n",
       "  <tbody>\n",
       "    <tr>\n",
       "      <th>0</th>\n",
       "      <td>0.002511</td>\n",
       "      <td>0.004073</td>\n",
       "      <td>0.003824</td>\n",
       "      <td>0.000064</td>\n",
       "      <td>0.001071</td>\n",
       "      <td>0.000960</td>\n",
       "      <td>0.999974</td>\n",
       "      <td>0.003475</td>\n",
       "    </tr>\n",
       "    <tr>\n",
       "      <th>1</th>\n",
       "      <td>0.002949</td>\n",
       "      <td>0.004164</td>\n",
       "      <td>0.006439</td>\n",
       "      <td>0.000015</td>\n",
       "      <td>0.000834</td>\n",
       "      <td>0.003637</td>\n",
       "      <td>0.999957</td>\n",
       "      <td>0.002121</td>\n",
       "    </tr>\n",
       "    <tr>\n",
       "      <th>2</th>\n",
       "      <td>0.000435</td>\n",
       "      <td>0.007436</td>\n",
       "      <td>0.006996</td>\n",
       "      <td>0.000007</td>\n",
       "      <td>0.003721</td>\n",
       "      <td>0.001243</td>\n",
       "      <td>0.999921</td>\n",
       "      <td>0.006200</td>\n",
       "    </tr>\n",
       "    <tr>\n",
       "      <th>3</th>\n",
       "      <td>0.008529</td>\n",
       "      <td>0.005899</td>\n",
       "      <td>0.008286</td>\n",
       "      <td>0.008652</td>\n",
       "      <td>0.001035</td>\n",
       "      <td>0.000296</td>\n",
       "      <td>0.999837</td>\n",
       "      <td>0.008636</td>\n",
       "    </tr>\n",
       "    <tr>\n",
       "      <th>4</th>\n",
       "      <td>0.003956</td>\n",
       "      <td>0.004490</td>\n",
       "      <td>0.004903</td>\n",
       "      <td>0.000170</td>\n",
       "      <td>0.000845</td>\n",
       "      <td>0.004598</td>\n",
       "      <td>0.999929</td>\n",
       "      <td>0.007822</td>\n",
       "    </tr>\n",
       "    <tr>\n",
       "      <th>5</th>\n",
       "      <td>0.000541</td>\n",
       "      <td>0.001325</td>\n",
       "      <td>0.003082</td>\n",
       "      <td>0.004240</td>\n",
       "      <td>0.001136</td>\n",
       "      <td>0.000155</td>\n",
       "      <td>0.999984</td>\n",
       "      <td>0.000814</td>\n",
       "    </tr>\n",
       "    <tr>\n",
       "      <th>6</th>\n",
       "      <td>0.003486</td>\n",
       "      <td>0.006800</td>\n",
       "      <td>0.002461</td>\n",
       "      <td>0.006202</td>\n",
       "      <td>0.000797</td>\n",
       "      <td>0.000362</td>\n",
       "      <td>0.999932</td>\n",
       "      <td>0.005650</td>\n",
       "    </tr>\n",
       "    <tr>\n",
       "      <th>7</th>\n",
       "      <td>0.028769</td>\n",
       "      <td>0.013014</td>\n",
       "      <td>0.002258</td>\n",
       "      <td>0.010314</td>\n",
       "      <td>0.003155</td>\n",
       "      <td>0.000796</td>\n",
       "      <td>0.999428</td>\n",
       "      <td>0.004895</td>\n",
       "    </tr>\n",
       "    <tr>\n",
       "      <th>8</th>\n",
       "      <td>0.004485</td>\n",
       "      <td>0.002565</td>\n",
       "      <td>0.005575</td>\n",
       "      <td>0.006159</td>\n",
       "      <td>0.000600</td>\n",
       "      <td>0.000535</td>\n",
       "      <td>0.999952</td>\n",
       "      <td>0.000628</td>\n",
       "    </tr>\n",
       "    <tr>\n",
       "      <th>9</th>\n",
       "      <td>0.007071</td>\n",
       "      <td>0.003451</td>\n",
       "      <td>0.004994</td>\n",
       "      <td>0.007189</td>\n",
       "      <td>0.002082</td>\n",
       "      <td>0.000697</td>\n",
       "      <td>0.999910</td>\n",
       "      <td>0.006132</td>\n",
       "    </tr>\n",
       "  </tbody>\n",
       "</table>\n",
       "</div>"
      ],
      "text/plain": [
       "   acousticness  danceability    energy  instrumentalness  liveness  \\\n",
       "0      0.002511      0.004073  0.003824          0.000064  0.001071   \n",
       "1      0.002949      0.004164  0.006439          0.000015  0.000834   \n",
       "2      0.000435      0.007436  0.006996          0.000007  0.003721   \n",
       "3      0.008529      0.005899  0.008286          0.008652  0.001035   \n",
       "4      0.003956      0.004490  0.004903          0.000170  0.000845   \n",
       "5      0.000541      0.001325  0.003082          0.004240  0.001136   \n",
       "6      0.003486      0.006800  0.002461          0.006202  0.000797   \n",
       "7      0.028769      0.013014  0.002258          0.010314  0.003155   \n",
       "8      0.004485      0.002565  0.005575          0.006159  0.000600   \n",
       "9      0.007071      0.003451  0.004994          0.007189  0.002082   \n",
       "\n",
       "   speechiness     tempo   valence  \n",
       "0     0.000960  0.999974  0.003475  \n",
       "1     0.003637  0.999957  0.002121  \n",
       "2     0.001243  0.999921  0.006200  \n",
       "3     0.000296  0.999837  0.008636  \n",
       "4     0.004598  0.999929  0.007822  \n",
       "5     0.000155  0.999984  0.000814  \n",
       "6     0.000362  0.999932  0.005650  \n",
       "7     0.000796  0.999428  0.004895  \n",
       "8     0.000535  0.999952  0.000628  \n",
       "9     0.000697  0.999910  0.006132  "
      ]
     },
     "execution_count": 9,
     "metadata": {},
     "output_type": "execute_result"
    }
   ],
   "source": [
    "from sklearn.preprocessing import Normalizer\n",
    "\n",
    "norm = Normalizer()\n",
    "X_new = Normalizer().fit_transform(X)\n",
    "pd.DataFrame(X_new,columns=X.columns).head(10)"
   ]
  },
  {
   "cell_type": "code",
   "execution_count": 10,
   "metadata": {
    "collapsed": true
   },
   "outputs": [],
   "source": [
    "ms = MeanShift()\n",
    "ms.fit(X_new)\n",
    "labels = ms.labels_\n",
    "cluster_centers = ms.cluster_centers_\n",
    "labels_unique = np.unique(labels)\n",
    "n_clusters_ = len(labels_unique)"
   ]
  },
  {
   "cell_type": "code",
   "execution_count": 11,
   "metadata": {
    "collapsed": false
   },
   "outputs": [
    {
     "name": "stdout",
     "output_type": "stream",
     "text": [
      "unique labels [ 0  1  2  3  4  5  6  7  8  9 10 11 12 13 14 15 16 17 18 19 20 21 22 23 24\n",
      " 25 26 27 28 29 30 31]\n",
      "(32, 8)\n",
      "number of estimated clusters : 32\n"
     ]
    }
   ],
   "source": [
    "#print(labels)\n",
    "#print(cluster_centers)\n",
    "print(\"unique labels\", labels_unique)\n",
    "print(cluster_centers.shape)\n",
    "print(\"number of estimated clusters : %d\" % n_clusters_)\n"
   ]
  },
  {
   "cell_type": "code",
   "execution_count": 12,
   "metadata": {
    "collapsed": false
   },
   "outputs": [
    {
     "name": "stdout",
     "output_type": "stream",
     "text": [
      "[  3.51707727e-03   3.79090685e-03   4.36475808e-03   4.98134812e-03\n",
      "   1.32732358e-03   6.20965217e-04   9.99943500e-01   3.30116821e-03]\n",
      "[ 0.00395012  0.00665657  0.00478975  0.02595981  0.00272784  0.00137623\n",
      "  0.99960468  0.00237762]\n",
      "[ 0.02539936  0.01099698  0.00300099  0.01057238  0.00439752  0.00120894\n",
      "  0.99952145  0.00542535]\n",
      "[ 0.0073403   0.01264887  0.00975572  0.01588068  0.00130752  0.01444928\n",
      "  0.99955601  0.01011208]\n",
      "[  1.83393493e-02   5.38413238e-03   1.12711831e-02   1.76620307e-02\n",
      "   1.27947554e-02   8.78630807e-04   9.99421952e-01   1.33426183e-02]\n",
      "[  4.87904297e-02   1.69784747e-02   5.27476937e-03   8.69503375e-05\n",
      "   6.71735380e-03   1.72852545e-03   9.98624700e-01   1.99811938e-03]\n",
      "[ 0.00822875  0.01606381  0.03168794  0.03559801  0.00341067  0.00164987\n",
      "  0.99850939  0.01917138]\n",
      "[  7.74644755e-02   2.71507305e-02   1.20572754e-04   7.48124014e-02\n",
      "   7.15151949e-03   3.24638772e-03   9.93778118e-01   2.92442498e-03]\n",
      "[ 0.02116622  0.01318676  0.02050669  0.01987001  0.00322776  0.00214067\n",
      "  0.99926092  0.00503753]\n",
      "[ 0.00942024  0.00380116  0.01359607  0.01487994  0.01614929  0.0071878\n",
      "  0.99958839  0.00106196]\n",
      "[  3.07248135e-02   2.15075962e-02   7.49647498e-05   2.86055269e-02\n",
      "   2.21655737e-03   1.17892181e-02   9.98790949e-01   6.91868843e-03]\n",
      "[ 0.03686391  0.0118026   0.00176998  0.03656908  0.00442521  0.00117128\n",
      "  0.99856825  0.00134838]\n",
      "[ 0.01729844  0.007733    0.01127696  0.00137097  0.01200079  0.01650864\n",
      "  0.99947685  0.01189102]\n",
      "[ 0.0176886   0.00895704  0.00249421  0.00298043  0.01648009  0.00316366\n",
      "  0.99959256  0.01117521]\n",
      "[ 0.02386669  0.00594375  0.01412121  0.02434471  0.00809057  0.00121368\n",
      "  0.99907364  0.01969524]\n",
      "[ 0.0110843   0.01290796  0.01619007  0.01576499  0.00116612  0.00609403\n",
      "  0.99956781  0.00505708]\n",
      "[  2.26822431e-02   1.26203627e-02   1.17809531e-02   6.57483537e-03\n",
      "   6.53832768e-03   6.38730743e-03   9.99530005e-01   6.66872566e-04]\n",
      "[  1.96617481e-02   7.74918376e-03   2.62965109e-03   1.00708841e-02\n",
      "   9.59061357e-03   8.09234579e-04   9.99547495e-01   1.60374271e-02]\n",
      "[  2.56170751e-02   1.12575545e-02   6.22128630e-05   2.21913030e-02\n",
      "   1.68395056e-03   8.17145271e-03   9.99321597e-01   3.36339882e-03]\n",
      "[ 0.01806783  0.00566413  0.01496478  0.0176558   0.00738858  0.01026382\n",
      "  0.99947205  0.00121744]\n",
      "[ 0.0235942   0.01286991  0.01475986  0.02450882  0.00301481  0.00159829\n",
      "  0.9991906   0.00810155]\n",
      "[ 0.0122589   0.01461966  0.01802421  0.01763885  0.00738711  0.01339009\n",
      "  0.99924826  0.01640257]\n",
      "[  1.99007731e-02   1.27745564e-02   1.81165953e-04   1.83450777e-02\n",
      "   2.17651038e-03   5.01266213e-03   9.99434918e-01   1.42890497e-02]\n",
      "[ 0.01802587  0.01336529  0.01167716  0.02476212  0.0031355   0.00102014\n",
      "  0.99928085  0.01318416]\n",
      "[ 0.01175605  0.01042301  0.01188348  0.00964311  0.01166282  0.01323728\n",
      "  0.99959793  0.00341747]\n",
      "[  2.79865708e-03   7.62293966e-03   3.92709357e-07   1.85007364e-02\n",
      "   1.36482192e-03   8.88842877e-03   9.99755300e-01   5.05237066e-04]\n",
      "[ 0.00948915  0.01645788  0.0041092   0.03254664  0.00377292  0.00190689\n",
      "  0.99920648  0.01146611]\n",
      "[ 0.01041437  0.00536401  0.01397293  0.01568364  0.01482472  0.00117835\n",
      "  0.99958218  0.00598794]\n",
      "[ 0.01537793  0.0109511   0.00572689  0.01624107  0.01016656  0.0013033\n",
      "  0.99948671  0.01637949]\n",
      "[  1.34594361e-02   1.64313775e-02   1.12617204e-02   1.52082324e-02\n",
      "   2.46896979e-03   7.72075531e-04   9.99381339e-01   2.05179050e-02]\n",
      "[  3.51353800e-05   1.86415059e-02   2.08607001e-03   2.23639458e-04\n",
      "   2.31921829e-03   2.09305323e-03   9.99796614e-01   6.71280162e-03]\n",
      "[  2.09529976e-02   1.43969601e-02   9.73432660e-03   2.92811751e-03\n",
      "   1.38628966e-02   5.16295371e-03   9.99515298e-01   8.37401357e-04]\n"
     ]
    }
   ],
   "source": [
    "for center in cluster_centers:\n",
    "    print(center)"
   ]
  },
  {
   "cell_type": "code",
   "execution_count": null,
   "metadata": {
    "collapsed": true
   },
   "outputs": [],
   "source": [
    "from sklearn.pipeline import Pipeline\n"
   ]
  },
  {
   "cell_type": "code",
   "execution_count": null,
   "metadata": {
    "collapsed": false
   },
   "outputs": [],
   "source": [
    "# # Plot result\n",
    "# from itertools import cycle\n",
    "\n",
    "# plt.figure(1)\n",
    "# plt.clf()\n",
    "\n",
    "# colors = cycle('bgrcmykbgrcmykbgrcmykbgrcmyk')\n",
    "# for k, col in zip(range(n_clusters_), colors):\n",
    "#     my_members = labels == k\n",
    "#     cluster_center = cluster_centers[k]\n",
    "#     plt.plot(X.loc[my_members, 0], X.loc[my_members, 1], col + '.')\n",
    "#     plt.plot(cluster_center[0], cluster_center[1], 'o', markerfacecolor=col,\n",
    "#              markeredgecolor='k', markersize=14)\n",
    "# plt.title('Estimated number of clusters: %d' % n_clusters_)\n",
    "# plt.show()"
   ]
  },
  {
   "cell_type": "markdown",
   "metadata": {},
   "source": [
    "#### Affinity Propagation"
   ]
  },
  {
   "cell_type": "code",
   "execution_count": null,
   "metadata": {
    "collapsed": true
   },
   "outputs": [],
   "source": [
    "# from sklearn.cluster import AffinityPropagation\n",
    "# from sklearn import metrics\n",
    "\n",
    "\n",
    "# # #############################################################################\n",
    "# # Compute Affinity Propagation\n",
    "# af = AffinityPropagation(preference=-50).fit(X)\n",
    "# cluster_centers_indices = af.cluster_centers_indices_\n",
    "# labels = af.labels_\n",
    "\n",
    "# n_clusters_ = len(cluster_centers_indices)\n",
    "\n",
    "# print('Estimated number of clusters: %d' % n_clusters_)\n",
    "# print(\"Homogeneity: %0.3f\" % metrics.homogeneity_score(labels_true, labels))\n",
    "# print(\"Completeness: %0.3f\" % metrics.completeness_score(labels_true, labels))\n",
    "# print(\"V-measure: %0.3f\" % metrics.v_measure_score(labels_true, labels))\n",
    "# print(\"Adjusted Rand Index: %0.3f\"\n",
    "#       % metrics.adjusted_rand_score(labels_true, labels))\n",
    "# print(\"Adjusted Mutual Information: %0.3f\"\n",
    "#       % metrics.adjusted_mutual_info_score(labels_true, labels))\n",
    "# print(\"Silhouette Coefficient: %0.3f\"\n",
    "#       % metrics.silhouette_score(X, labels, metric='sqeuclidean'))\n",
    "\n",
    "# # #############################################################################\n",
    "# # Plot result\n",
    "# import matplotlib.pyplot as plt\n",
    "# from itertools import cycle\n",
    "\n",
    "# plt.close('all')\n",
    "# plt.figure(1)\n",
    "# plt.clf()\n",
    "\n",
    "# colors = cycle('bgrcmykbgrcmykbgrcmykbgrcmyk')\n",
    "# for k, col in zip(range(n_clusters_), colors):\n",
    "#     class_members = labels == k\n",
    "#     cluster_center = X[cluster_centers_indices[k]]\n",
    "#     plt.plot(X[class_members, 0], X[class_members, 1], col + '.')\n",
    "#     plt.plot(cluster_center[0], cluster_center[1], 'o', markerfacecolor=col,\n",
    "#              markeredgecolor='k', markersize=14)\n",
    "#     for x in X[class_members]:\n",
    "#         plt.plot([cluster_center[0], x[0]], [cluster_center[1], x[1]], col)\n",
    "\n",
    "# plt.title('Estimated number of clusters: %d' % n_clusters_)\n",
    "# plt.show()"
   ]
  }
 ],
 "metadata": {
  "kernelspec": {
   "display_name": "Python [conda env:Anaconda3]",
   "language": "python",
   "name": "conda-env-Anaconda3-py"
  },
  "language_info": {
   "codemirror_mode": {
    "name": "ipython",
    "version": 3
   },
   "file_extension": ".py",
   "mimetype": "text/x-python",
   "name": "python",
   "nbconvert_exporter": "python",
   "pygments_lexer": "ipython3",
   "version": "3.5.2"
  }
 },
 "nbformat": 4,
 "nbformat_minor": 1
}
